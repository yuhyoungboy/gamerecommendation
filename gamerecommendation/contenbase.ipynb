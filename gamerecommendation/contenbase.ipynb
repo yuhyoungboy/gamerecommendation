{
 "cells": [
  {
   "cell_type": "code",
   "execution_count": 46,
   "metadata": {},
   "outputs": [],
   "source": [
    "import pandas as pd\n",
    "import numpy as np\n",
    "from sklearn.impute import SimpleImputer"
   ]
  },
  {
   "cell_type": "code",
   "execution_count": 48,
   "metadata": {},
   "outputs": [
    {
     "name": "stdout",
     "output_type": "stream",
     "text": [
      "Number of users: 1000\n"
     ]
    }
   ],
   "source": [
    "#Reading user file:\n",
    "user_cols =  ['user_id', 'products', 'reviews']\n",
    "users = pd.read_csv('users.csv', nrows=1000 , sep=',', names=user_cols, encoding='latin-1')\n",
    "\n",
    "n_users = users.shape[0]\n",
    "print('Number of users:', n_users)"
   ]
  },
  {
   "cell_type": "code",
   "execution_count": 62,
   "metadata": {},
   "outputs": [
    {
     "name": "stdout",
     "output_type": "stream",
     "text": [
      "Number of rates: 1000\n"
     ]
    }
   ],
   "source": [
    "#Reading games file:\n",
    "\n",
    "games_cols = ['app_id', 'title', 'date_release', 'win', 'mac', 'linux', 'rating', 'positive_ratio', 'user_reviews', 'price_final', 'price_original', 'discount', 'steam_deck']\n",
    "games = pd.read_csv('games.csv', nrows=1000, sep=',', names=games_cols, encoding='latin-1')\n",
    "\n",
    "#Reading ratings file:\n",
    "r_cols = ['user_id', 'movie_id', 'rating', 'unix_timestamp']\n",
    "\n",
    "ratings_base = pd.read_csv('games.csv', nrows=1000, sep='\\t', names=r_cols, encoding='latin-1')\n",
    "\n",
    "rate_games = ratings_base.values\n",
    "\n",
    "print ('Number of rates:', rate_games.shape[0])\n"
   ]
  },
  {
   "cell_type": "code",
   "execution_count": null,
   "metadata": {},
   "outputs": [],
   "source": []
  },
  {
   "cell_type": "code",
   "execution_count": 60,
   "metadata": {},
   "outputs": [
    {
     "name": "stdout",
     "output_type": "stream",
     "text": [
      "Number of training rates: []\n"
     ]
    }
   ],
   "source": [
    "#Reading recommendations file:\n",
    "games_metadata_cols = ['app_id', 'description', 'tags']\n",
    "\n",
    "games_metadata = pd.read_csv('games_metadata.csv', nrows=1000, sep='\\t', names=games_metadata_cols, encoding='latin-1')\n",
    "\n",
    "# Remove rows with NaN values\n",
    "games_metadata = games_metadata.dropna()\n",
    "\n",
    "games_metadata_train = games_metadata.values\n",
    "games_metadata_test = games_metadata.values\n",
    "\n",
    "print('Number of training rates:', games_metadata_train)"
   ]
  },
  {
   "cell_type": "code",
   "execution_count": 49,
   "metadata": {},
   "outputs": [
    {
     "name": "stdout",
     "output_type": "stream",
     "text": [
      "Number of traing rates: 1000\n"
     ]
    }
   ],
   "source": [
    "#Reading recommendations file:\n",
    "recommendations_cols = ['app_id', 'helpful', 'funny', 'date', 'is_recommended', 'hours', 'user_id', 'review_id']\n",
    "\n",
    "recommendations = pd.read_csv('recommendations.csv', nrows=1000, sep='\\t', names=recommendations_cols, encoding='latin-1')\n",
    "\n",
    "recommendations_train = recommendations.shape[0]\n",
    "#recommendations_test = recommendations.as_matrix()\n",
    "\n",
    "print ('Number of traing rates:', recommendations_train)\n",
    "#print ('Number of test rates:', recommendations_test.shape[0])"
   ]
  },
  {
   "cell_type": "code",
   "execution_count": 51,
   "metadata": {},
   "outputs": [],
   "source": [
    "#X_train_counts = games['rating'].values\n",
    "X0 = games.values\n",
    "X_train_counts = X0[:, 8:11]"
   ]
  },
  {
   "cell_type": "code",
   "execution_count": 52,
   "metadata": {},
   "outputs": [],
   "source": [
    "#from sklearn.feature_extraction.text import TfidfTransformer\n",
    "#transformer = TfidfTransformer(smooth_idf=True, norm ='l2')\n",
    "#tfidf = transformer.fit_transform(X_train_counts.tolist()).toarray()\n",
    "\n",
    "from sklearn.feature_extraction.text import TfidfTransformer\n",
    "from sklearn.preprocessing import FunctionTransformer\n",
    "\n",
    "# Convert X_train_counts to a 2D array\n",
    "X_train_counts_2d = FunctionTransformer(lambda x: x.reshape(-1, 1)).fit_transform(X_train_counts)\n",
    "\n",
    "# Create and apply the TfidfTransformer\n",
    "transformer = TfidfTransformer(smooth_idf=True, norm='l2')\n",
    "tfidf = transformer.fit_transform(X_train_counts_2d).toarray()"
   ]
  },
  {
   "cell_type": "code",
   "execution_count": 53,
   "metadata": {},
   "outputs": [],
   "source": [
    "import numpy as np\n",
    "def get_items_rated_by_user(rate_matrix, user_id):\n",
    "    \"\"\"\n",
    "    in each line of rate_matrix, we have infor: user_id, item_id, rating (scores), time_stamp\n",
    "    we care about the first three values\n",
    "    return (item_ids, scores) rated by user user_id\n",
    "    \"\"\"\n",
    "    y = rate_matrix[:,0] # all users\n",
    "    # item indices rated by user_id\n",
    "    # we need to +1 to user_id since in the rate_matrix, id starts from 1 \n",
    "    # while index in python starts from 0\n",
    "    ids = np.where(y == user_id +1)[0] \n",
    "    item_ids = rate_matrix[ids, 1] - 1 # index starts from 0 \n",
    "    scores = rate_matrix[ids, 2]\n",
    "    return (item_ids, scores)"
   ]
  },
  {
   "cell_type": "code",
   "execution_count": 57,
   "metadata": {},
   "outputs": [
    {
     "ename": "InvalidIndexError",
     "evalue": "(slice(None, None, None), 0)",
     "output_type": "error",
     "traceback": [
      "\u001b[1;31m---------------------------------------------------------------------------\u001b[0m",
      "\u001b[1;31mTypeError\u001b[0m                                 Traceback (most recent call last)",
      "File \u001b[1;32mc:\\Users\\Huy\\AppData\\Local\\Programs\\Python\\Python310\\lib\\site-packages\\pandas\\core\\indexes\\base.py:3652\u001b[0m, in \u001b[0;36mIndex.get_loc\u001b[1;34m(self, key)\u001b[0m\n\u001b[0;32m   3651\u001b[0m \u001b[39mtry\u001b[39;00m:\n\u001b[1;32m-> 3652\u001b[0m     \u001b[39mreturn\u001b[39;00m \u001b[39mself\u001b[39;49m\u001b[39m.\u001b[39;49m_engine\u001b[39m.\u001b[39;49mget_loc(casted_key)\n\u001b[0;32m   3653\u001b[0m \u001b[39mexcept\u001b[39;00m \u001b[39mKeyError\u001b[39;00m \u001b[39mas\u001b[39;00m err:\n",
      "File \u001b[1;32mc:\\Users\\Huy\\AppData\\Local\\Programs\\Python\\Python310\\lib\\site-packages\\pandas\\_libs\\index.pyx:147\u001b[0m, in \u001b[0;36mpandas._libs.index.IndexEngine.get_loc\u001b[1;34m()\u001b[0m\n",
      "File \u001b[1;32mc:\\Users\\Huy\\AppData\\Local\\Programs\\Python\\Python310\\lib\\site-packages\\pandas\\_libs\\index.pyx:153\u001b[0m, in \u001b[0;36mpandas._libs.index.IndexEngine.get_loc\u001b[1;34m()\u001b[0m\n",
      "\u001b[1;31mTypeError\u001b[0m: '(slice(None, None, None), 0)' is an invalid key",
      "\nDuring handling of the above exception, another exception occurred:\n",
      "\u001b[1;31mInvalidIndexError\u001b[0m                         Traceback (most recent call last)",
      "\u001b[1;32md:\\HK1Y4\\BDML\\contenbase\\contenbase.ipynb Cell 9\u001b[0m in \u001b[0;36m<module>\u001b[1;34m\u001b[0m\n\u001b[0;32m      <a href='vscode-notebook-cell:/d%3A/HK1Y4/BDML/contenbase/contenbase.ipynb#X12sZmlsZQ%3D%3D?line=4'>5</a>\u001b[0m b \u001b[39m=\u001b[39m np\u001b[39m.\u001b[39mzeros((\u001b[39m1\u001b[39m, n_users))\n\u001b[0;32m      <a href='vscode-notebook-cell:/d%3A/HK1Y4/BDML/contenbase/contenbase.ipynb#X12sZmlsZQ%3D%3D?line=6'>7</a>\u001b[0m \u001b[39mfor\u001b[39;00m n \u001b[39min\u001b[39;00m \u001b[39mrange\u001b[39m(n_users):\n\u001b[1;32m----> <a href='vscode-notebook-cell:/d%3A/HK1Y4/BDML/contenbase/contenbase.ipynb#X12sZmlsZQ%3D%3D?line=7'>8</a>\u001b[0m     ids, scores \u001b[39m=\u001b[39m get_items_rated_by_user(recommendations, n)  \u001b[39m# Assuming `recommendations` is the correct variable\u001b[39;00m\n\u001b[0;32m      <a href='vscode-notebook-cell:/d%3A/HK1Y4/BDML/contenbase/contenbase.ipynb#X12sZmlsZQ%3D%3D?line=8'>9</a>\u001b[0m     clf \u001b[39m=\u001b[39m Ridge(alpha\u001b[39m=\u001b[39m\u001b[39m0.01\u001b[39m, fit_intercept\u001b[39m=\u001b[39m\u001b[39mTrue\u001b[39;00m)\n\u001b[0;32m     <a href='vscode-notebook-cell:/d%3A/HK1Y4/BDML/contenbase/contenbase.ipynb#X12sZmlsZQ%3D%3D?line=9'>10</a>\u001b[0m     Xhat \u001b[39m=\u001b[39m tfidf[ids, :]\n",
      "\u001b[1;32md:\\HK1Y4\\BDML\\contenbase\\contenbase.ipynb Cell 9\u001b[0m in \u001b[0;36mget_items_rated_by_user\u001b[1;34m(rate_matrix, user_id)\u001b[0m\n\u001b[0;32m      <a href='vscode-notebook-cell:/d%3A/HK1Y4/BDML/contenbase/contenbase.ipynb#X12sZmlsZQ%3D%3D?line=1'>2</a>\u001b[0m \u001b[39mdef\u001b[39;00m \u001b[39mget_items_rated_by_user\u001b[39m(rate_matrix, user_id):\n\u001b[0;32m      <a href='vscode-notebook-cell:/d%3A/HK1Y4/BDML/contenbase/contenbase.ipynb#X12sZmlsZQ%3D%3D?line=2'>3</a>\u001b[0m \u001b[39m    \u001b[39m\u001b[39m\"\"\"\u001b[39;00m\n\u001b[0;32m      <a href='vscode-notebook-cell:/d%3A/HK1Y4/BDML/contenbase/contenbase.ipynb#X12sZmlsZQ%3D%3D?line=3'>4</a>\u001b[0m \u001b[39m    in each line of rate_matrix, we have infor: user_id, item_id, rating (scores), time_stamp\u001b[39;00m\n\u001b[0;32m      <a href='vscode-notebook-cell:/d%3A/HK1Y4/BDML/contenbase/contenbase.ipynb#X12sZmlsZQ%3D%3D?line=4'>5</a>\u001b[0m \u001b[39m    we care about the first three values\u001b[39;00m\n\u001b[0;32m      <a href='vscode-notebook-cell:/d%3A/HK1Y4/BDML/contenbase/contenbase.ipynb#X12sZmlsZQ%3D%3D?line=5'>6</a>\u001b[0m \u001b[39m    return (item_ids, scores) rated by user user_id\u001b[39;00m\n\u001b[0;32m      <a href='vscode-notebook-cell:/d%3A/HK1Y4/BDML/contenbase/contenbase.ipynb#X12sZmlsZQ%3D%3D?line=6'>7</a>\u001b[0m \u001b[39m    \"\"\"\u001b[39;00m\n\u001b[1;32m----> <a href='vscode-notebook-cell:/d%3A/HK1Y4/BDML/contenbase/contenbase.ipynb#X12sZmlsZQ%3D%3D?line=7'>8</a>\u001b[0m     y \u001b[39m=\u001b[39m rate_matrix[:,\u001b[39m0\u001b[39;49m] \u001b[39m# all users\u001b[39;00m\n\u001b[0;32m      <a href='vscode-notebook-cell:/d%3A/HK1Y4/BDML/contenbase/contenbase.ipynb#X12sZmlsZQ%3D%3D?line=8'>9</a>\u001b[0m     \u001b[39m# item indices rated by user_id\u001b[39;00m\n\u001b[0;32m     <a href='vscode-notebook-cell:/d%3A/HK1Y4/BDML/contenbase/contenbase.ipynb#X12sZmlsZQ%3D%3D?line=9'>10</a>\u001b[0m     \u001b[39m# we need to +1 to user_id since in the rate_matrix, id starts from 1 \u001b[39;00m\n\u001b[0;32m     <a href='vscode-notebook-cell:/d%3A/HK1Y4/BDML/contenbase/contenbase.ipynb#X12sZmlsZQ%3D%3D?line=10'>11</a>\u001b[0m     \u001b[39m# while index in python starts from 0\u001b[39;00m\n\u001b[0;32m     <a href='vscode-notebook-cell:/d%3A/HK1Y4/BDML/contenbase/contenbase.ipynb#X12sZmlsZQ%3D%3D?line=11'>12</a>\u001b[0m     ids \u001b[39m=\u001b[39m np\u001b[39m.\u001b[39mwhere(y \u001b[39m==\u001b[39m user_id \u001b[39m+\u001b[39m\u001b[39m1\u001b[39m)[\u001b[39m0\u001b[39m] \n",
      "File \u001b[1;32mc:\\Users\\Huy\\AppData\\Local\\Programs\\Python\\Python310\\lib\\site-packages\\pandas\\core\\frame.py:3761\u001b[0m, in \u001b[0;36mDataFrame.__getitem__\u001b[1;34m(self, key)\u001b[0m\n\u001b[0;32m   3759\u001b[0m \u001b[39mif\u001b[39;00m \u001b[39mself\u001b[39m\u001b[39m.\u001b[39mcolumns\u001b[39m.\u001b[39mnlevels \u001b[39m>\u001b[39m \u001b[39m1\u001b[39m:\n\u001b[0;32m   3760\u001b[0m     \u001b[39mreturn\u001b[39;00m \u001b[39mself\u001b[39m\u001b[39m.\u001b[39m_getitem_multilevel(key)\n\u001b[1;32m-> 3761\u001b[0m indexer \u001b[39m=\u001b[39m \u001b[39mself\u001b[39;49m\u001b[39m.\u001b[39;49mcolumns\u001b[39m.\u001b[39;49mget_loc(key)\n\u001b[0;32m   3762\u001b[0m \u001b[39mif\u001b[39;00m is_integer(indexer):\n\u001b[0;32m   3763\u001b[0m     indexer \u001b[39m=\u001b[39m [indexer]\n",
      "File \u001b[1;32mc:\\Users\\Huy\\AppData\\Local\\Programs\\Python\\Python310\\lib\\site-packages\\pandas\\core\\indexes\\base.py:3659\u001b[0m, in \u001b[0;36mIndex.get_loc\u001b[1;34m(self, key)\u001b[0m\n\u001b[0;32m   3654\u001b[0m     \u001b[39mraise\u001b[39;00m \u001b[39mKeyError\u001b[39;00m(key) \u001b[39mfrom\u001b[39;00m \u001b[39merr\u001b[39;00m\n\u001b[0;32m   3655\u001b[0m \u001b[39mexcept\u001b[39;00m \u001b[39mTypeError\u001b[39;00m:\n\u001b[0;32m   3656\u001b[0m     \u001b[39m# If we have a listlike key, _check_indexing_error will raise\u001b[39;00m\n\u001b[0;32m   3657\u001b[0m     \u001b[39m#  InvalidIndexError. Otherwise we fall through and re-raise\u001b[39;00m\n\u001b[0;32m   3658\u001b[0m     \u001b[39m#  the TypeError.\u001b[39;00m\n\u001b[1;32m-> 3659\u001b[0m     \u001b[39mself\u001b[39;49m\u001b[39m.\u001b[39;49m_check_indexing_error(key)\n\u001b[0;32m   3660\u001b[0m     \u001b[39mraise\u001b[39;00m\n",
      "File \u001b[1;32mc:\\Users\\Huy\\AppData\\Local\\Programs\\Python\\Python310\\lib\\site-packages\\pandas\\core\\indexes\\base.py:5736\u001b[0m, in \u001b[0;36mIndex._check_indexing_error\u001b[1;34m(self, key)\u001b[0m\n\u001b[0;32m   5732\u001b[0m \u001b[39mdef\u001b[39;00m \u001b[39m_check_indexing_error\u001b[39m(\u001b[39mself\u001b[39m, key):\n\u001b[0;32m   5733\u001b[0m     \u001b[39mif\u001b[39;00m \u001b[39mnot\u001b[39;00m is_scalar(key):\n\u001b[0;32m   5734\u001b[0m         \u001b[39m# if key is not a scalar, directly raise an error (the code below\u001b[39;00m\n\u001b[0;32m   5735\u001b[0m         \u001b[39m# would convert to numpy arrays and raise later any way) - GH29926\u001b[39;00m\n\u001b[1;32m-> 5736\u001b[0m         \u001b[39mraise\u001b[39;00m InvalidIndexError(key)\n",
      "\u001b[1;31mInvalidIndexError\u001b[0m: (slice(None, None, None), 0)"
     ]
    }
   ],
   "source": [
    "from sklearn.linear_model import Ridge\n",
    "from sklearn import linear_model\n",
    "d = tfidf.shape[1]  # data dimension\n",
    "W = np.zeros((d, n_users))\n",
    "b = np.zeros((1, n_users))\n",
    "\n",
    "for n in range(n_users):\n",
    "    ids, scores = get_items_rated_by_user(recommendations, n)  # Assuming `recommendations` is the correct variable\n",
    "    clf = Ridge(alpha=0.01, fit_intercept=True)\n",
    "    Xhat = tfidf[ids, :]\n",
    "    \n",
    "    clf.fit(Xhat, scores)\n",
    "    W[:, n] = clf.coef_\n",
    "    b[0, n] = clf.intercept_"
   ]
  },
  {
   "cell_type": "code",
   "execution_count": 55,
   "metadata": {},
   "outputs": [
    {
     "ename": "TypeError",
     "evalue": "'int' object is not subscriptable",
     "output_type": "error",
     "traceback": [
      "\u001b[1;31m---------------------------------------------------------------------------\u001b[0m",
      "\u001b[1;31mTypeError\u001b[0m                                 Traceback (most recent call last)",
      "\u001b[1;32md:\\HK1Y4\\BDML\\contenbase\\contenbase.ipynb Cell 9\u001b[0m in \u001b[0;36m<module>\u001b[1;34m\u001b[0m\n\u001b[0;32m      <a href='vscode-notebook-cell:/d%3A/HK1Y4/BDML/contenbase/contenbase.ipynb#X11sZmlsZQ%3D%3D?line=5'>6</a>\u001b[0m b \u001b[39m=\u001b[39m np\u001b[39m.\u001b[39mzeros((\u001b[39m1\u001b[39m, n_users))\n\u001b[0;32m      <a href='vscode-notebook-cell:/d%3A/HK1Y4/BDML/contenbase/contenbase.ipynb#X11sZmlsZQ%3D%3D?line=7'>8</a>\u001b[0m \u001b[39mfor\u001b[39;00m n \u001b[39min\u001b[39;00m \u001b[39mrange\u001b[39m(n_users):    \n\u001b[1;32m----> <a href='vscode-notebook-cell:/d%3A/HK1Y4/BDML/contenbase/contenbase.ipynb#X11sZmlsZQ%3D%3D?line=8'>9</a>\u001b[0m     ids, scores \u001b[39m=\u001b[39m get_items_rated_by_user(recommendations_train, n)\n\u001b[0;32m     <a href='vscode-notebook-cell:/d%3A/HK1Y4/BDML/contenbase/contenbase.ipynb#X11sZmlsZQ%3D%3D?line=9'>10</a>\u001b[0m     clf \u001b[39m=\u001b[39m Ridge(alpha\u001b[39m=\u001b[39m\u001b[39m0.01\u001b[39m, fit_intercept  \u001b[39m=\u001b[39m \u001b[39mTrue\u001b[39;00m)\n\u001b[0;32m     <a href='vscode-notebook-cell:/d%3A/HK1Y4/BDML/contenbase/contenbase.ipynb#X11sZmlsZQ%3D%3D?line=10'>11</a>\u001b[0m     Xhat \u001b[39m=\u001b[39m tfidf[ids, :]\n",
      "\u001b[1;32md:\\HK1Y4\\BDML\\contenbase\\contenbase.ipynb Cell 9\u001b[0m in \u001b[0;36mget_items_rated_by_user\u001b[1;34m(rate_matrix, user_id)\u001b[0m\n\u001b[0;32m      <a href='vscode-notebook-cell:/d%3A/HK1Y4/BDML/contenbase/contenbase.ipynb#X11sZmlsZQ%3D%3D?line=1'>2</a>\u001b[0m \u001b[39mdef\u001b[39;00m \u001b[39mget_items_rated_by_user\u001b[39m(rate_matrix, user_id):\n\u001b[0;32m      <a href='vscode-notebook-cell:/d%3A/HK1Y4/BDML/contenbase/contenbase.ipynb#X11sZmlsZQ%3D%3D?line=2'>3</a>\u001b[0m \u001b[39m    \u001b[39m\u001b[39m\"\"\"\u001b[39;00m\n\u001b[0;32m      <a href='vscode-notebook-cell:/d%3A/HK1Y4/BDML/contenbase/contenbase.ipynb#X11sZmlsZQ%3D%3D?line=3'>4</a>\u001b[0m \u001b[39m    in each line of rate_matrix, we have infor: user_id, item_id, rating (scores), time_stamp\u001b[39;00m\n\u001b[0;32m      <a href='vscode-notebook-cell:/d%3A/HK1Y4/BDML/contenbase/contenbase.ipynb#X11sZmlsZQ%3D%3D?line=4'>5</a>\u001b[0m \u001b[39m    we care about the first three values\u001b[39;00m\n\u001b[0;32m      <a href='vscode-notebook-cell:/d%3A/HK1Y4/BDML/contenbase/contenbase.ipynb#X11sZmlsZQ%3D%3D?line=5'>6</a>\u001b[0m \u001b[39m    return (item_ids, scores) rated by user user_id\u001b[39;00m\n\u001b[0;32m      <a href='vscode-notebook-cell:/d%3A/HK1Y4/BDML/contenbase/contenbase.ipynb#X11sZmlsZQ%3D%3D?line=6'>7</a>\u001b[0m \u001b[39m    \"\"\"\u001b[39;00m\n\u001b[1;32m----> <a href='vscode-notebook-cell:/d%3A/HK1Y4/BDML/contenbase/contenbase.ipynb#X11sZmlsZQ%3D%3D?line=7'>8</a>\u001b[0m     y \u001b[39m=\u001b[39m rate_matrix[:,\u001b[39m0\u001b[39;49m] \u001b[39m# all users\u001b[39;00m\n\u001b[0;32m      <a href='vscode-notebook-cell:/d%3A/HK1Y4/BDML/contenbase/contenbase.ipynb#X11sZmlsZQ%3D%3D?line=8'>9</a>\u001b[0m     \u001b[39m# item indices rated by user_id\u001b[39;00m\n\u001b[0;32m     <a href='vscode-notebook-cell:/d%3A/HK1Y4/BDML/contenbase/contenbase.ipynb#X11sZmlsZQ%3D%3D?line=9'>10</a>\u001b[0m     \u001b[39m# we need to +1 to user_id since in the rate_matrix, id starts from 1 \u001b[39;00m\n\u001b[0;32m     <a href='vscode-notebook-cell:/d%3A/HK1Y4/BDML/contenbase/contenbase.ipynb#X11sZmlsZQ%3D%3D?line=10'>11</a>\u001b[0m     \u001b[39m# while index in python starts from 0\u001b[39;00m\n\u001b[0;32m     <a href='vscode-notebook-cell:/d%3A/HK1Y4/BDML/contenbase/contenbase.ipynb#X11sZmlsZQ%3D%3D?line=11'>12</a>\u001b[0m     ids \u001b[39m=\u001b[39m np\u001b[39m.\u001b[39mwhere(y \u001b[39m==\u001b[39m user_id \u001b[39m+\u001b[39m\u001b[39m1\u001b[39m)[\u001b[39m0\u001b[39m] \n",
      "\u001b[1;31mTypeError\u001b[0m: 'int' object is not subscriptable"
     ]
    }
   ],
   "source": [
    "from sklearn.linear_model import Ridge\n",
    "from sklearn import linear_model\n",
    "\n",
    "d = tfidf.shape[1] # data dimension\n",
    "W = np.zeros((d, n_users))\n",
    "b = np.zeros((1, n_users))\n",
    "\n",
    "for n in range(n_users):    \n",
    "    ids, scores = get_items_rated_by_user(recommendations_train, n)\n",
    "    clf = Ridge(alpha=0.01, fit_intercept  = True)\n",
    "    Xhat = tfidf[ids, :]\n",
    "    \n",
    "    clf.fit(Xhat, scores) \n",
    "    W[:, n] = clf.coef_\n",
    "    b[0, n] = clf.intercept_"
   ]
  }
 ],
 "metadata": {
  "kernelspec": {
   "display_name": "Python 3",
   "language": "python",
   "name": "python3"
  },
  "language_info": {
   "codemirror_mode": {
    "name": "ipython",
    "version": 3
   },
   "file_extension": ".py",
   "mimetype": "text/x-python",
   "name": "python",
   "nbconvert_exporter": "python",
   "pygments_lexer": "ipython3",
   "version": "3.10.0"
  },
  "orig_nbformat": 4
 },
 "nbformat": 4,
 "nbformat_minor": 2
}
