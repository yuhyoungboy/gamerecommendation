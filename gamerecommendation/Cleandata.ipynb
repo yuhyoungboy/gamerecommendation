{
 "cells": [
  {
   "cell_type": "code",
   "execution_count": 2,
   "metadata": {},
   "outputs": [],
   "source": [
    "import re\n",
    "import pandas as pd\n",
    "from pandas import read_csv\n",
    "import pathlib"
   ]
  },
  {
   "cell_type": "code",
   "execution_count": 3,
   "metadata": {},
   "outputs": [],
   "source": [
    "# Get games data from CSV\n",
    "locationGamesFile = pathlib.Path(r'steam_games.csv')\n",
    "#locationGamesFile = pd.read_csv('steam_games.csv')\n",
    "dataGames = read_csv(locationGamesFile, usecols=[\"name\", \"genre\", \"game_details\", \"popular_tags\", \"publisher\", \"developer\"])\n",
    "\n",
    "locationUsersFile = pathlib.Path(r'steam_users_purchase_play.csv')\n",
    "dataUsers = read_csv(locationUsersFile, header=None, usecols=[0, 1, 2, 3],\n",
    "                     names=[\"user_id\", \"game_name\", \"behavior\", \"hours\"])\n",
    "\n",
    "dataGames['name'] = dataGames['name'].fillna('')\n",
    "dataGames[\"ID\"] = \"\"\n",
    "dataUsers[\"ID\"] = \"\""
   ]
  },
  {
   "cell_type": "code",
   "execution_count": 4,
   "metadata": {},
   "outputs": [],
   "source": [
    "# remove spaces and special character from game name in both dataset\n",
    "for i, row in dataGames.iterrows():\n",
    "    clean = re.sub('[^A-Za-z0-9]+', '', row[\"name\"])\n",
    "    clean = clean.lower()\n",
    "    dataGames.at[i, 'ID'] = clean\n",
    "\n",
    "for i, row in dataUsers.iterrows():\n",
    "    clean = re.sub('[^A-Za-z0-9]+', '', row[\"game_name\"])\n",
    "    clean = clean.lower()\n",
    "    dataUsers.at[i, 'ID'] = clean"
   ]
  },
  {
   "cell_type": "code",
   "execution_count": 5,
   "metadata": {},
   "outputs": [
    {
     "name": "stdout",
     "output_type": "stream",
     "text": [
      "5152\n",
      "3036\n"
     ]
    }
   ],
   "source": [
    "\n",
    "# find all the games in the game dataset that match the games in user dataset\n",
    "gameArrayUsers = dataUsers[\"ID\"].unique()\n",
    "print(len(gameArrayUsers))\n",
    "criteriaTest = dataGames['ID'].isin(gameArrayUsers)\n",
    "usedGames = dataGames[criteriaTest]\n",
    "print(len(usedGames))"
   ]
  },
  {
   "cell_type": "code",
   "execution_count": 6,
   "metadata": {},
   "outputs": [],
   "source": [
    "# relevant info for recommendation: genre game_details popular_tags publisher developer\n",
    "usedGames.loc[:, 'genre'] = usedGames['genre'].fillna('')\n",
    "usedGames.loc[:, 'game_details'] = usedGames['game_details'].fillna('')\n",
    "usedGames.loc[:, 'popular_tags'] = usedGames['popular_tags'].fillna('')\n",
    "usedGames.loc[:, 'publisher'] = usedGames['publisher'].fillna('')\n",
    "usedGames.loc[:, 'developer'] = usedGames['developer'].fillna('')\n",
    "def clean_data(x):\n",
    "    if isinstance(x, str):\n",
    "        return x.replace(\" \", \"\")\n",
    "    else:\n",
    "        print(x)\n",
    "        return x"
   ]
  },
  {
   "cell_type": "code",
   "execution_count": 7,
   "metadata": {},
   "outputs": [
    {
     "name": "stderr",
     "output_type": "stream",
     "text": [
      "C:\\Users\\Huy\\AppData\\Local\\Temp\\ipykernel_18256\\708623079.py:9: SettingWithCopyWarning: \n",
      "A value is trying to be set on a copy of a slice from a DataFrame.\n",
      "Try using .loc[row_indexer,col_indexer] = value instead\n",
      "\n",
      "See the caveats in the documentation: https://pandas.pydata.org/pandas-docs/stable/user_guide/indexing.html#returning-a-view-versus-a-copy\n",
      "  usedGames[\"genre_publisher_developer\"] = usedGames['genre'] + usedGames['publisher'] + usedGames['developer']\n",
      "C:\\Users\\Huy\\AppData\\Local\\Temp\\ipykernel_18256\\708623079.py:10: SettingWithCopyWarning: \n",
      "A value is trying to be set on a copy of a slice from a DataFrame.\n",
      "Try using .loc[row_indexer,col_indexer] = value instead\n",
      "\n",
      "See the caveats in the documentation: https://pandas.pydata.org/pandas-docs/stable/user_guide/indexing.html#returning-a-view-versus-a-copy\n",
      "  usedGames[\"genre_popular_tags_developer\"] = usedGames['genre'] + usedGames['popular_tags'] + usedGames['developer']\n",
      "C:\\Users\\Huy\\AppData\\Local\\Temp\\ipykernel_18256\\708623079.py:11: SettingWithCopyWarning: \n",
      "A value is trying to be set on a copy of a slice from a DataFrame.\n",
      "Try using .loc[row_indexer,col_indexer] = value instead\n",
      "\n",
      "See the caveats in the documentation: https://pandas.pydata.org/pandas-docs/stable/user_guide/indexing.html#returning-a-view-versus-a-copy\n",
      "  usedGames[\"genre_popular_tags_game_details\"] = usedGames['genre'] + usedGames['popular_tags'] + usedGames['game_details']\n",
      "C:\\Users\\Huy\\AppData\\Local\\Temp\\ipykernel_18256\\708623079.py:12: SettingWithCopyWarning: \n",
      "A value is trying to be set on a copy of a slice from a DataFrame.\n",
      "Try using .loc[row_indexer,col_indexer] = value instead\n",
      "\n",
      "See the caveats in the documentation: https://pandas.pydata.org/pandas-docs/stable/user_guide/indexing.html#returning-a-view-versus-a-copy\n",
      "  usedGames[\"genre_publisher_developer_game_details\"] = usedGames['genre'] + usedGames['publisher'] + usedGames['developer'] + usedGames['game_details']\n"
     ]
    }
   ],
   "source": [
    "# remove spaces between the word. This way\n",
    "usedGames.loc[:, 'genre'] = usedGames['genre'].apply(clean_data)\n",
    "usedGames.loc[:, 'game_details'] = usedGames['game_details'].apply(clean_data)\n",
    "usedGames.loc[:, 'popular_tags'] = usedGames['popular_tags'].apply(clean_data)\n",
    "usedGames.loc[:, 'publisher'] = usedGames['publisher'].apply(clean_data)\n",
    "usedGames.loc[:, 'developer'] = usedGames['developer'].apply(clean_data)\n",
    "\n",
    "# create some column containing a mix of different information\n",
    "usedGames[\"genre_publisher_developer\"] = usedGames['genre'] + usedGames['publisher'] + usedGames['developer']\n",
    "usedGames[\"genre_popular_tags_developer\"] = usedGames['genre'] + usedGames['popular_tags'] + usedGames['developer']\n",
    "usedGames[\"genre_popular_tags_game_details\"] = usedGames['genre'] + usedGames['popular_tags'] + usedGames['game_details']\n",
    "usedGames[\"genre_publisher_developer_game_details\"] = usedGames['genre'] + usedGames['publisher'] + usedGames['developer'] + usedGames['game_details']\n",
    "\n",
    "usedGames.drop_duplicates(\"name\")\n",
    "usedGames.to_csv(pathlib.Path(r'processed_games_for_content-based.csv'), index=False)"
   ]
  }
 ],
 "metadata": {
  "kernelspec": {
   "display_name": "Python 3",
   "language": "python",
   "name": "python3"
  },
  "language_info": {
   "codemirror_mode": {
    "name": "ipython",
    "version": 3
   },
   "file_extension": ".py",
   "mimetype": "text/x-python",
   "name": "python",
   "nbconvert_exporter": "python",
   "pygments_lexer": "ipython3",
   "version": "3.10.0"
  },
  "orig_nbformat": 4
 },
 "nbformat": 4,
 "nbformat_minor": 2
}
